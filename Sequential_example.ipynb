{
  "nbformat": 4,
  "nbformat_minor": 0,
  "metadata": {
    "colab": {
      "name": "Untitled1.ipynb",
      "provenance": [],
      "authorship_tag": "ABX9TyM1SvuJzPn5WKbhFYy+9xK2",
      "include_colab_link": true
    },
    "kernelspec": {
      "name": "python3",
      "display_name": "Python 3"
    }
  },
  "cells": [
    {
      "cell_type": "markdown",
      "metadata": {
        "id": "view-in-github",
        "colab_type": "text"
      },
      "source": [
        "<a href=\"https://colab.research.google.com/github/parasb70/Student-Managemnt-System/blob/master/Sequential_example.ipynb\" target=\"_parent\"><img src=\"https://colab.research.google.com/assets/colab-badge.svg\" alt=\"Open In Colab\"/></a>"
      ]
    },
    {
      "cell_type": "code",
      "metadata": {
        "id": "BekeHlFSZ2AN",
        "colab_type": "code",
        "colab": {}
      },
      "source": [
        "import numpy as np\n",
        "from random import randint\n",
        "from sklearn.utils import shuffle\n",
        "from sklearn.preprocessing import MinMaxScaler"
      ],
      "execution_count": 2,
      "outputs": []
    },
    {
      "cell_type": "code",
      "metadata": {
        "id": "rBavVjgJZ51P",
        "colab_type": "code",
        "colab": {}
      },
      "source": [
        "train_label=[]\n",
        "train_sample=[]\n",
        "test_label=[]\n",
        "test_sample=[]"
      ],
      "execution_count": 3,
      "outputs": []
    },
    {
      "cell_type": "code",
      "metadata": {
        "id": "r4aNi6H-aJqA",
        "colab_type": "code",
        "colab": {}
      },
      "source": [
        "for i in range(50):\n",
        "    random_young = randint(13,64)\n",
        "    train_sample.append(random_young)\n",
        "    train_label.append(1)\n",
        "    random_old = randint(65,100)\n",
        "    train_sample.append(random_old)\n",
        "    train_label.append(0)"
      ],
      "execution_count": 4,
      "outputs": []
    },
    {
      "cell_type": "code",
      "metadata": {
        "id": "rmB8j5l-aLVd",
        "colab_type": "code",
        "colab": {}
      },
      "source": [
        "for i in range(1000):\n",
        "    random_young = randint(13,64)\n",
        "    train_sample.append(random_young)\n",
        "    train_label.append(0)\n",
        "    random_old = randint(65,100)\n",
        "    train_sample.append(random_old)\n",
        "    train_label.append(1)"
      ],
      "execution_count": 5,
      "outputs": []
    },
    {
      "cell_type": "code",
      "metadata": {
        "id": "Ue5OAZ7gaNc9",
        "colab_type": "code",
        "colab": {}
      },
      "source": [
        "# Testing Data\n",
        "for i in range(5):\n",
        "    random_young = randint(13,64)\n",
        "    test_sample.append(random_young)\n",
        "    test_label.append(1)\n",
        "    random_old = randint(65,100)\n",
        "    test_sample.append(random_old)\n",
        "    test_label.append(0)\n",
        "for i in range(100):\n",
        "    random_young = randint(13,64)\n",
        "    test_sample.append(random_young)\n",
        "    test_label.append(0)\n",
        "    random_old = randint(65,100)\n",
        "    test_sample.append(random_old)\n",
        "    test_label.append(1)"
      ],
      "execution_count": 6,
      "outputs": []
    },
    {
      "cell_type": "code",
      "metadata": {
        "id": "hH_aanT1aQIF",
        "colab_type": "code",
        "colab": {}
      },
      "source": [
        "train_label=np.array(train_label)\n",
        "train_sample=np.array(train_sample)\n",
        "test_label=np.array(test_label)\n",
        "test_sample=np.array(test_sample)"
      ],
      "execution_count": 7,
      "outputs": []
    },
    {
      "cell_type": "code",
      "metadata": {
        "id": "YTXwQX2haR5x",
        "colab_type": "code",
        "colab": {}
      },
      "source": [
        "scale=MinMaxScaler((0,1))\n",
        "scaled_train_sample=scale.fit_transform(train_sample.reshape(-1,1))\n",
        "scaled_test_sample=scale.fit_transform(test_sample.reshape(-1,1))"
      ],
      "execution_count": 8,
      "outputs": []
    },
    {
      "cell_type": "code",
      "metadata": {
        "id": "ydJH_F0oaUE1",
        "colab_type": "code",
        "colab": {}
      },
      "source": [
        "import tensorflow as tf\n",
        "from tensorflow import keras\n",
        "from tensorflow.keras.models import Sequential\n",
        "from tensorflow.keras.layers import Activation, Dense\n",
        "from tensorflow.keras.optimizers import Adam\n",
        "from tensorflow.keras.metrics import categorical_crossentropy"
      ],
      "execution_count": 9,
      "outputs": []
    },
    {
      "cell_type": "code",
      "metadata": {
        "id": "KGkI4UK6bDJh",
        "colab_type": "code",
        "colab": {}
      },
      "source": [
        "#physical_deices = tf.config.experimental.list_logical_devices(\"GPU\")\n",
        "#print(\"Num GPUs available:\",len(physical_deices))\n",
        "#f.config.experimental.set_memory_growth(physical_deices[0],True)"
      ],
      "execution_count": 12,
      "outputs": []
    },
    {
      "cell_type": "code",
      "metadata": {
        "id": "cZ69l-nAbyXp",
        "colab_type": "code",
        "colab": {}
      },
      "source": [
        "model = Sequential([\n",
        "                    Dense(units = 16, input_shape=(1,), activation=\"relu\"),\n",
        "                   Dense(units = 32, activation=\"relu\"),\n",
        "                    Dense(units = 32, activation=\"softmax\"),\n",
        "])"
      ],
      "execution_count": 15,
      "outputs": []
    },
    {
      "cell_type": "code",
      "metadata": {
        "id": "yFY99aMRceqc",
        "colab_type": "code",
        "colab": {
          "base_uri": "https://localhost:8080/",
          "height": 252
        },
        "outputId": "de86781e-bd62-4f55-e7e0-b8484b51270f"
      },
      "source": [
        "model.summary()"
      ],
      "execution_count": 16,
      "outputs": [
        {
          "output_type": "stream",
          "text": [
            "Model: \"sequential\"\n",
            "_________________________________________________________________\n",
            "Layer (type)                 Output Shape              Param #   \n",
            "=================================================================\n",
            "dense_4 (Dense)              (None, 16)                32        \n",
            "_________________________________________________________________\n",
            "dense_5 (Dense)              (None, 32)                544       \n",
            "_________________________________________________________________\n",
            "dense_6 (Dense)              (None, 32)                1056      \n",
            "=================================================================\n",
            "Total params: 1,632\n",
            "Trainable params: 1,632\n",
            "Non-trainable params: 0\n",
            "_________________________________________________________________\n"
          ],
          "name": "stdout"
        }
      ]
    },
    {
      "cell_type": "code",
      "metadata": {
        "id": "hgk-OOJDctpA",
        "colab_type": "code",
        "colab": {
          "base_uri": "https://localhost:8080/",
          "height": 1000
        },
        "outputId": "6c0db1c2-236d-494a-b44d-596e72c39c38"
      },
      "source": [
        "model.compile(optimizer=Adam(learning_rate=0.0001), loss=\"sparse_categorical_crossentropy\", metrics=[\"accuracy\"])\n",
        "model.fit(x=scaled_train_sample,y=train_label,batch_size=10,epochs=30,shuffle=True,verbose=2)"
      ],
      "execution_count": 18,
      "outputs": [
        {
          "output_type": "stream",
          "text": [
            "Epoch 1/30\n",
            "210/210 - 0s - loss: 3.3320 - accuracy: 0.3538\n",
            "Epoch 2/30\n",
            "210/210 - 0s - loss: 3.0264 - accuracy: 0.5010\n",
            "Epoch 3/30\n",
            "210/210 - 0s - loss: 2.5191 - accuracy: 0.5000\n",
            "Epoch 4/30\n",
            "210/210 - 0s - loss: 1.8665 - accuracy: 0.5000\n",
            "Epoch 5/30\n",
            "210/210 - 0s - loss: 1.3134 - accuracy: 0.5000\n",
            "Epoch 6/30\n",
            "210/210 - 0s - loss: 1.0062 - accuracy: 0.5000\n",
            "Epoch 7/30\n",
            "210/210 - 0s - loss: 0.8541 - accuracy: 0.5000\n",
            "Epoch 8/30\n",
            "210/210 - 0s - loss: 0.7714 - accuracy: 0.5000\n",
            "Epoch 9/30\n",
            "210/210 - 0s - loss: 0.7202 - accuracy: 0.5486\n",
            "Epoch 10/30\n",
            "210/210 - 0s - loss: 0.6838 - accuracy: 0.5943\n",
            "Epoch 11/30\n",
            "210/210 - 0s - loss: 0.6547 - accuracy: 0.6595\n",
            "Epoch 12/30\n",
            "210/210 - 0s - loss: 0.6292 - accuracy: 0.6967\n",
            "Epoch 13/30\n",
            "210/210 - 0s - loss: 0.6061 - accuracy: 0.7419\n",
            "Epoch 14/30\n",
            "210/210 - 0s - loss: 0.5835 - accuracy: 0.7662\n",
            "Epoch 15/30\n",
            "210/210 - 0s - loss: 0.5620 - accuracy: 0.7871\n",
            "Epoch 16/30\n",
            "210/210 - 0s - loss: 0.5410 - accuracy: 0.8071\n",
            "Epoch 17/30\n",
            "210/210 - 0s - loss: 0.5203 - accuracy: 0.8352\n",
            "Epoch 18/30\n",
            "210/210 - 0s - loss: 0.5005 - accuracy: 0.8438\n",
            "Epoch 19/30\n",
            "210/210 - 0s - loss: 0.4807 - accuracy: 0.8529\n",
            "Epoch 20/30\n",
            "210/210 - 0s - loss: 0.4622 - accuracy: 0.8657\n",
            "Epoch 21/30\n",
            "210/210 - 0s - loss: 0.4441 - accuracy: 0.8690\n",
            "Epoch 22/30\n",
            "210/210 - 0s - loss: 0.4275 - accuracy: 0.8824\n",
            "Epoch 23/30\n",
            "210/210 - 0s - loss: 0.4115 - accuracy: 0.8848\n",
            "Epoch 24/30\n",
            "210/210 - 0s - loss: 0.3974 - accuracy: 0.8990\n",
            "Epoch 25/30\n",
            "210/210 - 0s - loss: 0.3834 - accuracy: 0.9014\n",
            "Epoch 26/30\n",
            "210/210 - 0s - loss: 0.3711 - accuracy: 0.9067\n",
            "Epoch 27/30\n",
            "210/210 - 0s - loss: 0.3596 - accuracy: 0.9119\n",
            "Epoch 28/30\n",
            "210/210 - 0s - loss: 0.3495 - accuracy: 0.9181\n",
            "Epoch 29/30\n",
            "210/210 - 0s - loss: 0.3406 - accuracy: 0.9129\n",
            "Epoch 30/30\n",
            "210/210 - 0s - loss: 0.3319 - accuracy: 0.9229\n"
          ],
          "name": "stdout"
        },
        {
          "output_type": "execute_result",
          "data": {
            "text/plain": [
              "<tensorflow.python.keras.callbacks.History at 0x7f2a1d96f828>"
            ]
          },
          "metadata": {
            "tags": []
          },
          "execution_count": 18
        }
      ]
    },
    {
      "cell_type": "code",
      "metadata": {
        "id": "8vEhAZVAdehU",
        "colab_type": "code",
        "colab": {}
      },
      "source": [
        "prediction = model.predict(x=scaled_test_sample,batch_size=10,verbose=0)\n",
        "random_predict = np.argmax(prediction,axis=1)"
      ],
      "execution_count": 19,
      "outputs": []
    },
    {
      "cell_type": "code",
      "metadata": {
        "id": "bNegM_k6egs4",
        "colab_type": "code",
        "colab": {}
      },
      "source": [
        "from sklearn.metrics import confusion_matrix"
      ],
      "execution_count": 20,
      "outputs": []
    },
    {
      "cell_type": "code",
      "metadata": {
        "id": "4bO7gFS6en0_",
        "colab_type": "code",
        "colab": {}
      },
      "source": [
        "cm=confusion_matrix(y_true=test_label,y_pred=random_predict)"
      ],
      "execution_count": 22,
      "outputs": []
    },
    {
      "cell_type": "code",
      "metadata": {
        "id": "j8YPOoOCfMt9",
        "colab_type": "code",
        "colab": {
          "base_uri": "https://localhost:8080/",
          "height": 50
        },
        "outputId": "13962e51-9982-4d50-a6d1-cda742bd6d95"
      },
      "source": [
        "cm"
      ],
      "execution_count": 27,
      "outputs": [
        {
          "output_type": "execute_result",
          "data": {
            "text/plain": [
              "array([[ 90,  15],\n",
              "       [  5, 100]])"
            ]
          },
          "metadata": {
            "tags": []
          },
          "execution_count": 27
        }
      ]
    },
    {
      "cell_type": "code",
      "metadata": {
        "id": "jmY9bIxde3Ek",
        "colab_type": "code",
        "colab": {}
      },
      "source": [
        "score = (cm[0][0]+cm[1][1])*100/(cm[0][0]+cm[1][1]+cm[0][1]+cm[1][0])"
      ],
      "execution_count": 28,
      "outputs": []
    },
    {
      "cell_type": "code",
      "metadata": {
        "id": "uimzEeKDfBwU",
        "colab_type": "code",
        "colab": {
          "base_uri": "https://localhost:8080/",
          "height": 34
        },
        "outputId": "1d00c07c-4efb-40a0-a161-7fd4fed4c3d5"
      },
      "source": [
        "score"
      ],
      "execution_count": 29,
      "outputs": [
        {
          "output_type": "execute_result",
          "data": {
            "text/plain": [
              "90.47619047619048"
            ]
          },
          "metadata": {
            "tags": []
          },
          "execution_count": 29
        }
      ]
    },
    {
      "cell_type": "code",
      "metadata": {
        "id": "gAPWvx3yfegw",
        "colab_type": "code",
        "colab": {}
      },
      "source": [
        ""
      ],
      "execution_count": null,
      "outputs": []
    }
  ]
}